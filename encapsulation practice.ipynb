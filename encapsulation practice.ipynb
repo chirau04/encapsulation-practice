{
 "cells": [
  {
   "cell_type": "code",
   "execution_count": 1,
   "id": "2e7527b7-60d5-42c5-8db4-eebe627c8a1f",
   "metadata": {},
   "outputs": [],
   "source": [
    "class test:\n",
    "    \n",
    "    def __init__(self,a,b):\n",
    "        self.a = a\n",
    "        self.b = b"
   ]
  },
  {
   "cell_type": "code",
   "execution_count": 2,
   "id": "941a74e1-0e3f-49cd-aa07-40a301d2a221",
   "metadata": {},
   "outputs": [],
   "source": [
    "t = test(23,34)"
   ]
  },
  {
   "cell_type": "code",
   "execution_count": 3,
   "id": "ee8ea9e9-47f9-42b8-8edd-eca2730c806a",
   "metadata": {},
   "outputs": [],
   "source": [
    "t.a = 2345345"
   ]
  },
  {
   "cell_type": "code",
   "execution_count": 98,
   "id": "afedb583-c4cb-4198-841e-d68c8386effc",
   "metadata": {},
   "outputs": [
    {
     "data": {
      "text/plain": [
       "2345345"
      ]
     },
     "execution_count": 98,
     "metadata": {},
     "output_type": "execute_result"
    }
   ],
   "source": [
    "t.a"
   ]
  },
  {
   "cell_type": "code",
   "execution_count": 103,
   "id": "1a9f5684-7f50-471e-a356-991756a8c3d0",
   "metadata": {},
   "outputs": [],
   "source": [
    "class car :\n",
    "    def __init__(self,year,make,model,speed):\n",
    "        \n",
    "        self.__year = year\n",
    "        self.__make = make \n",
    "        self.__model = model\n",
    "        self.__speed = 0 \n",
    "        \n",
    "    def set_speed(self,speed):\n",
    "            self.__speed = 0 if speed < 0 else speed \n",
    "            \n",
    "    def get_speed(self):\n",
    "                return self.__speed "
   ]
  },
  {
   "cell_type": "code",
   "execution_count": 104,
   "id": "0227f04d-4a65-450f-868f-58ca97782a39",
   "metadata": {},
   "outputs": [],
   "source": [
    "c = car(2021, \"toyata\", \"innova\", 12)"
   ]
  },
  {
   "cell_type": "code",
   "execution_count": 105,
   "id": "e5fe8fb5-fb15-48f8-af89-948cf016beff",
   "metadata": {},
   "outputs": [
    {
     "data": {
      "text/plain": [
       "2021"
      ]
     },
     "execution_count": 105,
     "metadata": {},
     "output_type": "execute_result"
    }
   ],
   "source": [
    "c._car__year"
   ]
  },
  {
   "cell_type": "code",
   "execution_count": 106,
   "id": "4498785b-3199-41e8-8551-1d348a7ab075",
   "metadata": {},
   "outputs": [],
   "source": [
    "c.set_speed(-3245)"
   ]
  },
  {
   "cell_type": "code",
   "execution_count": 107,
   "id": "da7036b5-fd6c-46d4-b75d-16ab47033854",
   "metadata": {},
   "outputs": [
    {
     "data": {
      "text/plain": [
       "0"
      ]
     },
     "execution_count": 107,
     "metadata": {},
     "output_type": "execute_result"
    }
   ],
   "source": [
    "c.get_speed()"
   ]
  },
  {
   "cell_type": "code",
   "execution_count": 108,
   "id": "ae601231-4417-46b1-99ac-17bf61d9219e",
   "metadata": {},
   "outputs": [],
   "source": [
    "c.set_speed(234)"
   ]
  },
  {
   "cell_type": "code",
   "execution_count": 109,
   "id": "fcba8fbd-8a1a-4a71-acaa-cd95aa01d0fe",
   "metadata": {},
   "outputs": [
    {
     "data": {
      "text/plain": [
       "234"
      ]
     },
     "execution_count": 109,
     "metadata": {},
     "output_type": "execute_result"
    }
   ],
   "source": [
    "c.get_speed()"
   ]
  },
  {
   "cell_type": "code",
   "execution_count": 114,
   "id": "d5b28589-5b46-47d0-b30d-8c1533e3647e",
   "metadata": {},
   "outputs": [],
   "source": [
    "class bank_account:\n",
    "    def __init__(self,balance):\n",
    "        self.__balance = balance\n",
    "        \n",
    "    def deposit (self, amount):\n",
    "            self.__balance = self.__balance + amount\n",
    "            \n",
    "    def withdraw (self,amount):\n",
    "                if self.__balance>= amount:\n",
    "                    self.__balance = self.__balance-amount\n",
    "                    return True\n",
    "                else:\n",
    "                    return False\n",
    "    def get_balance(self):\n",
    "                    return self.__balance"
   ]
  },
  {
   "cell_type": "code",
   "execution_count": 115,
   "id": "708e9790-2bba-40f2-92b9-c68057e68334",
   "metadata": {},
   "outputs": [],
   "source": [
    "chirayu = bank_account(1000)"
   ]
  },
  {
   "cell_type": "code",
   "execution_count": 116,
   "id": "162ea098-6bd8-44d9-85d3-a5479513048f",
   "metadata": {},
   "outputs": [
    {
     "data": {
      "text/plain": [
       "1000"
      ]
     },
     "execution_count": 116,
     "metadata": {},
     "output_type": "execute_result"
    }
   ],
   "source": [
    "chirayu.get_balance()"
   ]
  },
  {
   "cell_type": "code",
   "execution_count": 117,
   "id": "146583f8-1fe0-4e01-be0f-45fbedaa0c03",
   "metadata": {},
   "outputs": [],
   "source": [
    "chirayu.deposit(5000)"
   ]
  },
  {
   "cell_type": "code",
   "execution_count": 118,
   "id": "014ddef9-24da-44cd-a54d-a8d6997cd7b9",
   "metadata": {},
   "outputs": [
    {
     "data": {
      "text/plain": [
       "6000"
      ]
     },
     "execution_count": 118,
     "metadata": {},
     "output_type": "execute_result"
    }
   ],
   "source": [
    "chirayu.get_balance()"
   ]
  },
  {
   "cell_type": "code",
   "execution_count": 119,
   "id": "8d801045-d53d-442c-8a58-865cf2461554",
   "metadata": {},
   "outputs": [],
   "source": [
    "chirayu.deposit(1000)"
   ]
  },
  {
   "cell_type": "code",
   "execution_count": 120,
   "id": "b60b03c5-45ae-4ba1-aa0b-5ed72956abda",
   "metadata": {},
   "outputs": [
    {
     "data": {
      "text/plain": [
       "7000"
      ]
     },
     "execution_count": 120,
     "metadata": {},
     "output_type": "execute_result"
    }
   ],
   "source": [
    "chirayu.get_balance()"
   ]
  },
  {
   "cell_type": "code",
   "execution_count": 121,
   "id": "f8dd0fe9-3dae-47aa-b28e-e161934f10c1",
   "metadata": {},
   "outputs": [
    {
     "data": {
      "text/plain": [
       "True"
      ]
     },
     "execution_count": 121,
     "metadata": {},
     "output_type": "execute_result"
    }
   ],
   "source": [
    "chirayu.withdraw(2000)"
   ]
  },
  {
   "cell_type": "code",
   "execution_count": 122,
   "id": "14149e8c-e530-4ca4-9198-e4e019ebc775",
   "metadata": {},
   "outputs": [
    {
     "data": {
      "text/plain": [
       "False"
      ]
     },
     "execution_count": 122,
     "metadata": {},
     "output_type": "execute_result"
    }
   ],
   "source": [
    "chirayu.withdraw(90000)"
   ]
  },
  {
   "cell_type": "code",
   "execution_count": 123,
   "id": "1820099f-1ed0-4648-88ca-1b31fda204c1",
   "metadata": {},
   "outputs": [
    {
     "data": {
      "text/plain": [
       "5000"
      ]
     },
     "execution_count": 123,
     "metadata": {},
     "output_type": "execute_result"
    }
   ],
   "source": [
    "chirayu.get_balance()"
   ]
  },
  {
   "cell_type": "code",
   "execution_count": null,
   "id": "a717d350-5291-4798-85b2-48228576d9ab",
   "metadata": {},
   "outputs": [],
   "source": [
    "chirayu."
   ]
  }
 ],
 "metadata": {
  "kernelspec": {
   "display_name": "Python 3 (ipykernel)",
   "language": "python",
   "name": "python3"
  },
  "language_info": {
   "codemirror_mode": {
    "name": "ipython",
    "version": 3
   },
   "file_extension": ".py",
   "mimetype": "text/x-python",
   "name": "python",
   "nbconvert_exporter": "python",
   "pygments_lexer": "ipython3",
   "version": "3.10.8"
  }
 },
 "nbformat": 4,
 "nbformat_minor": 5
}
